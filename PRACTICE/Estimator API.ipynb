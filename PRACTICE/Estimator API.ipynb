{
 "cells": [
  {
   "cell_type": "markdown",
   "metadata": {},
   "source": [
    "## Using tf.estimator API"
   ]
  },
  {
   "cell_type": "code",
   "execution_count": 20,
   "metadata": {
    "collapsed": true
   },
   "outputs": [],
   "source": [
    "import numpy as np\n",
    "import matplotlib.pyplot as plt\n",
    "import tensorflow as tf\n",
    "import pandas as pd\n",
    "from sklearn.model_selection import train_test_split\n",
    "%matplotlib inline"
   ]
  },
  {
   "cell_type": "code",
   "execution_count": 21,
   "metadata": {
    "collapsed": true
   },
   "outputs": [],
   "source": [
    "#creating feature columns\n",
    "feat_col = [tf.feature_column.numeric_column('x',shape=[1])]"
   ]
  },
  {
   "cell_type": "code",
   "execution_count": 22,
   "metadata": {
    "collapsed": true
   },
   "outputs": [],
   "source": [
    "x_data = np.linspace(0.0,10.0,1000000)\n",
    "noise = np.random.randn(len(x_data))\n",
    "\n",
    "#create some response labels\n",
    "y_true = (0.5 * x_data) + 6 + noise"
   ]
  },
  {
   "cell_type": "code",
   "execution_count": 23,
   "metadata": {},
   "outputs": [
    {
     "name": "stdout",
     "output_type": "stream",
     "text": [
      "INFO:tensorflow:Using default config.\n",
      "WARNING:tensorflow:Using temporary folder as model directory: /var/folders/v4/yg76j28j56g98q8k2zlpb_lc0000gn/T/tmp4n64359n\n",
      "INFO:tensorflow:Using config: {'_model_dir': '/var/folders/v4/yg76j28j56g98q8k2zlpb_lc0000gn/T/tmp4n64359n', '_tf_random_seed': None, '_save_summary_steps': 100, '_save_checkpoints_steps': None, '_save_checkpoints_secs': 600, '_session_config': None, '_keep_checkpoint_max': 5, '_keep_checkpoint_every_n_hours': 10000, '_log_step_count_steps': 100, '_service': None, '_cluster_spec': <tensorflow.python.training.server_lib.ClusterSpec object at 0x1a189807b8>, '_task_type': 'worker', '_task_id': 0, '_master': '', '_is_chief': True, '_num_ps_replicas': 0, '_num_worker_replicas': 1}\n"
     ]
    }
   ],
   "source": [
    "#set-up an estimator \n",
    "est = tf.estimator.LinearRegressor(feature_columns=feat_col)"
   ]
  },
  {
   "cell_type": "code",
   "execution_count": 24,
   "metadata": {},
   "outputs": [],
   "source": [
    "#create a train_test_split of the data\n",
    "x_train,x_eval,y_train,y_eval=train_test_split(x_data,y_true,test_size = 0.35,random_state=101)"
   ]
  },
  {
   "cell_type": "code",
   "execution_count": 25,
   "metadata": {},
   "outputs": [],
   "source": [
    "#create an input function for the estimator API\n",
    "in_func = tf.estimator.inputs.numpy_input_fn({'x':x_train},y_train,batch_size=10,num_epochs=None,shuffle=True)\n",
    "#create function for training\n",
    "train_in_func = tf.estimator.inputs.numpy_input_fn({'x':x_train},y_train,batch_size=10,num_epochs=1000,shuffle=True)\n",
    "#create an evaluation input function\n",
    "eval_in_func = tf.estimator.inputs.numpy_input_fn({'x':x_eval},y_eval,batch_size=10,num_epochs=1000,shuffle=False)\n"
   ]
  },
  {
   "cell_type": "code",
   "execution_count": 26,
   "metadata": {},
   "outputs": [
    {
     "name": "stdout",
     "output_type": "stream",
     "text": [
      "INFO:tensorflow:Create CheckpointSaverHook.\n",
      "INFO:tensorflow:Saving checkpoints for 1 into /var/folders/v4/yg76j28j56g98q8k2zlpb_lc0000gn/T/tmp4n64359n/model.ckpt.\n",
      "INFO:tensorflow:loss = 784.294, step = 1\n",
      "INFO:tensorflow:global_step/sec: 876.622\n",
      "INFO:tensorflow:loss = 48.0848, step = 101 (0.116 sec)\n",
      "INFO:tensorflow:global_step/sec: 998.005\n",
      "INFO:tensorflow:loss = 36.4291, step = 201 (0.100 sec)\n",
      "INFO:tensorflow:global_step/sec: 1048.49\n",
      "INFO:tensorflow:loss = 13.9925, step = 301 (0.095 sec)\n",
      "INFO:tensorflow:global_step/sec: 935.673\n",
      "INFO:tensorflow:loss = 18.3988, step = 401 (0.108 sec)\n",
      "INFO:tensorflow:global_step/sec: 888.486\n",
      "INFO:tensorflow:loss = 16.7071, step = 501 (0.113 sec)\n",
      "INFO:tensorflow:global_step/sec: 798.894\n",
      "INFO:tensorflow:loss = 16.568, step = 601 (0.124 sec)\n",
      "INFO:tensorflow:global_step/sec: 943.378\n",
      "INFO:tensorflow:loss = 5.29311, step = 701 (0.106 sec)\n",
      "INFO:tensorflow:global_step/sec: 963.568\n",
      "INFO:tensorflow:loss = 18.6676, step = 801 (0.104 sec)\n",
      "INFO:tensorflow:global_step/sec: 916.934\n",
      "INFO:tensorflow:loss = 16.267, step = 901 (0.109 sec)\n",
      "INFO:tensorflow:Saving checkpoints for 1000 into /var/folders/v4/yg76j28j56g98q8k2zlpb_lc0000gn/T/tmp4n64359n/model.ckpt.\n",
      "INFO:tensorflow:Loss for final step: 10.1138.\n"
     ]
    },
    {
     "data": {
      "text/plain": [
       "<tensorflow.python.estimator.canned.linear.LinearRegressor at 0x1a18e38e10>"
      ]
     },
     "execution_count": 26,
     "metadata": {},
     "output_type": "execute_result"
    }
   ],
   "source": [
    "#Run the estimator \n",
    "est.train(input_fn=in_func,steps=1000)"
   ]
  },
  {
   "cell_type": "code",
   "execution_count": 27,
   "metadata": {},
   "outputs": [
    {
     "name": "stdout",
     "output_type": "stream",
     "text": [
      "INFO:tensorflow:Starting evaluation at 2018-04-15-01:29:55\n",
      "INFO:tensorflow:Restoring parameters from /var/folders/v4/yg76j28j56g98q8k2zlpb_lc0000gn/T/tmp4n64359n/model.ckpt-1000\n",
      "INFO:tensorflow:Evaluation [100/1000]\n",
      "INFO:tensorflow:Evaluation [200/1000]\n",
      "INFO:tensorflow:Evaluation [300/1000]\n",
      "INFO:tensorflow:Evaluation [400/1000]\n",
      "INFO:tensorflow:Evaluation [500/1000]\n",
      "INFO:tensorflow:Evaluation [600/1000]\n",
      "INFO:tensorflow:Evaluation [700/1000]\n",
      "INFO:tensorflow:Evaluation [800/1000]\n",
      "INFO:tensorflow:Evaluation [900/1000]\n",
      "INFO:tensorflow:Evaluation [1000/1000]\n",
      "INFO:tensorflow:Finished evaluation at 2018-04-15-01:29:56\n",
      "INFO:tensorflow:Saving dict for global step 1000: average_loss = 1.269, global_step = 1000, loss = 12.69\n"
     ]
    }
   ],
   "source": [
    "#calculate the metrics\n",
    "train_met = est.evaluate(input_fn=train_in_func,steps=1000)"
   ]
  },
  {
   "cell_type": "code",
   "execution_count": 28,
   "metadata": {},
   "outputs": [
    {
     "name": "stdout",
     "output_type": "stream",
     "text": [
      "INFO:tensorflow:Starting evaluation at 2018-04-15-01:29:57\n",
      "INFO:tensorflow:Restoring parameters from /var/folders/v4/yg76j28j56g98q8k2zlpb_lc0000gn/T/tmp4n64359n/model.ckpt-1000\n",
      "INFO:tensorflow:Evaluation [100/1000]\n",
      "INFO:tensorflow:Evaluation [200/1000]\n",
      "INFO:tensorflow:Evaluation [300/1000]\n",
      "INFO:tensorflow:Evaluation [400/1000]\n",
      "INFO:tensorflow:Evaluation [500/1000]\n",
      "INFO:tensorflow:Evaluation [600/1000]\n",
      "INFO:tensorflow:Evaluation [700/1000]\n",
      "INFO:tensorflow:Evaluation [800/1000]\n",
      "INFO:tensorflow:Evaluation [900/1000]\n",
      "INFO:tensorflow:Evaluation [1000/1000]\n",
      "INFO:tensorflow:Finished evaluation at 2018-04-15-01:29:58\n",
      "INFO:tensorflow:Saving dict for global step 1000: average_loss = 1.25392, global_step = 1000, loss = 12.5392\n"
     ]
    }
   ],
   "source": [
    "eval_met = est.evaluate(input_fn=eval_in_func,steps=1000)"
   ]
  },
  {
   "cell_type": "code",
   "execution_count": 29,
   "metadata": {},
   "outputs": [
    {
     "name": "stdout",
     "output_type": "stream",
     "text": [
      "{'average_loss': 1.2690002, 'loss': 12.690001, 'global_step': 1000}\n",
      "\n",
      "\n",
      "{'average_loss': 1.2539206, 'loss': 12.539206, 'global_step': 1000}\n"
     ]
    }
   ],
   "source": [
    "print(train_met)\n",
    "print('\\n')\n",
    "print(eval_met)"
   ]
  },
  {
   "cell_type": "markdown",
   "metadata": {},
   "source": [
    "Running on a brand new test data"
   ]
  },
  {
   "cell_type": "code",
   "execution_count": 30,
   "metadata": {},
   "outputs": [
    {
     "name": "stdout",
     "output_type": "stream",
     "text": [
      "INFO:tensorflow:Restoring parameters from /var/folders/v4/yg76j28j56g98q8k2zlpb_lc0000gn/T/tmp4n64359n/model.ckpt-1000\n"
     ]
    },
    {
     "data": {
      "text/plain": [
       "[{'predictions': array([ 4.97925138], dtype=float32)},\n",
       " {'predictions': array([ 5.71895981], dtype=float32)},\n",
       " {'predictions': array([ 6.45866871], dtype=float32)},\n",
       " {'predictions': array([ 7.19837713], dtype=float32)},\n",
       " {'predictions': array([ 7.93808603], dtype=float32)},\n",
       " {'predictions': array([ 8.67779446], dtype=float32)},\n",
       " {'predictions': array([ 9.41750336], dtype=float32)},\n",
       " {'predictions': array([ 10.1572113], dtype=float32)},\n",
       " {'predictions': array([ 10.89692116], dtype=float32)},\n",
       " {'predictions': array([ 11.6366291], dtype=float32)}]"
      ]
     },
     "execution_count": 30,
     "metadata": {},
     "output_type": "execute_result"
    }
   ],
   "source": [
    "new_data = np.linspace(0,10,10)\n",
    "test_in_fn = train_in_func = tf.estimator.inputs.numpy_input_fn({'x':new_data},shuffle=False)\n",
    "\n",
    "list(est.predict(input_fn=test_in_fn))\n",
    "\n"
   ]
  },
  {
   "cell_type": "code",
   "execution_count": null,
   "metadata": {
    "collapsed": true
   },
   "outputs": [],
   "source": []
  }
 ],
 "metadata": {
  "kernelspec": {
   "display_name": "Python 3",
   "language": "python",
   "name": "python3"
  },
  "language_info": {
   "codemirror_mode": {
    "name": "ipython",
    "version": 3
   },
   "file_extension": ".py",
   "mimetype": "text/x-python",
   "name": "python",
   "nbconvert_exporter": "python",
   "pygments_lexer": "ipython3",
   "version": "3.6.3"
  }
 },
 "nbformat": 4,
 "nbformat_minor": 2
}
